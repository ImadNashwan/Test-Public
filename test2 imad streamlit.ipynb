{
 "cells": [
  {
   "cell_type": "code",
   "execution_count": 26,
   "metadata": {},
   "outputs": [
    {
     "name": "stdout",
     "output_type": "stream",
     "text": [
      "Overwriting Test2.py\n"
     ]
    }
   ],
   "source": [
    "%%writefile Test2.py\n",
    "# Import Necessary Libraries\n",
    "import streamlit as st\n",
    "import pandas as pd\n",
    "import numpy as np\n",
    "import plotly.express as px\n",
    "\n",
    "\n",
    "st.title('This Imad Test File')\n",
    "st.write('## The Graph will embeded here')\n",
    "df = pd.read_csv('cleaned_df.csv', index_col= 0)\n",
    "\n",
    "\n",
    "# Home Page\n",
    "\n",
    "\n",
    "\n",
    "country_count = df.Country.value_counts()\n",
    "st.plotly_chart(px.bar(country_count, x= country_count.index, y= country_count.values, title= 'Number of Transactions per Country', \n",
    "                                                                       labels= {'Country' : 'All Countries', 'y' : 'No of Transactions'}))\n",
    "minor_count = df['Minor Category'].value_counts()\n",
    "st.plotly_chart(px.bar(minor_count, x= minor_count.index, y= minor_count.values, title= 'Number of Orders per Minor Category',\n",
    "                                                                 color_discrete_sequence= ['#ed7953'],\n",
    "                                                                 labels= {'y' : 'No of Orders'}))\n",
    "\n",
    "df_sorted = df.sort_values(by= 'InvoiceDateTime')\n",
    "st.write('### Order Values According the Date')\n",
    "st.plotly_chart(px.line(df_sorted, x= 'InvoiceDateTime', y= 'OrderValue'))\n",
    "\n",
    "##### How to design to TABS ممكن تخصصها لكل بند من بنود التقرير\n",
    "\n",
    "tab1, tab2 = st.tabs(['Tab1', 'Tab2'])\n",
    "tab1.title ('The Title  of Tab1 ###')\n",
    "tab1.image('ecommerce.jpg')\n",
    "tab1.write('### Data Sample')\n",
    "tab1.dataframe(df.head())\n",
    "\n",
    "tab1.write(\"##### Test Tab1\")\n",
    "##### Columns of Tab1\n",
    "col1, col2 = tab1.columns(2)\n",
    "col1.write('Draw Graph of correlation Heat Map for all nummeric vRIbles')\n",
    "col2.plotly_chart(px.imshow(df.corr(numeric_only= True), text_auto= True))\n",
    "\n",
    "##### Columns of Tab2\n",
    "tab2.title ('The Title  of Tab2')\n",
    "tab2.write(\"### Test Tab2\")\n",
    "tab2.dataframe(df.info())\n",
    "tab2.dataframe(df.describe())\n",
    "col3, col4 = tab2.columns(2)\n",
    "col3.write('test for any graph')\n",
    "col4.plotly_chart(px.pie(df, names= 'Country', title= 'Number of orders per Country'))\n",
    "\n"
   ]
  },
  {
   "cell_type": "code",
   "execution_count": 27,
   "metadata": {},
   "outputs": [
    {
     "name": "stdout",
     "output_type": "stream",
     "text": [
      "^C\n"
     ]
    }
   ],
   "source": [
    "! streamlit run Test2.py"
   ]
  }
 ],
 "metadata": {
  "kernelspec": {
   "display_name": "base",
   "language": "python",
   "name": "python3"
  },
  "language_info": {
   "codemirror_mode": {
    "name": "ipython",
    "version": 3
   },
   "file_extension": ".py",
   "mimetype": "text/x-python",
   "name": "python",
   "nbconvert_exporter": "python",
   "pygments_lexer": "ipython3",
   "version": "3.12.7"
  }
 },
 "nbformat": 4,
 "nbformat_minor": 2
}
